{
 "cells": [
  {
   "cell_type": "code",
   "execution_count": 2,
   "metadata": {},
   "outputs": [
    {
     "name": "stdout",
     "output_type": "stream",
     "text": [
      "[*********************100%***********************]  1 of 1 completed\n",
      "\r[*********************100%***********************]  1 of 1 completed\n",
      "\r[*********************100%***********************]  1 of 1 completed\n",
      "\r[*********************100%***********************]  1 of 1 completed\n",
      "\r[*********************100%***********************]  1 of 1 completed\n",
      "\r[*********************100%***********************]  1 of 1 completed\n",
      "\r[*********************100%***********************]  1 of 1 completed\n",
      "\r[*********************100%***********************]  1 of 1 completed\n",
      "\r[*********************100%***********************]  1 of 1 completed\n",
      "\r[*********************100%***********************]  1 of 1 completed\n"
     ]
    },
    {
     "name": "stderr",
     "output_type": "stream",
     "text": [
      "/workspace/.pip-modules/lib/python3.8/site-packages/ta/trend.py:780: RuntimeWarning: invalid value encountered in scalar divide\n",
      "  dip[idx] = 100 * (self._dip[idx] / value)\n",
      "/workspace/.pip-modules/lib/python3.8/site-packages/ta/trend.py:785: RuntimeWarning: invalid value encountered in scalar divide\n",
      "  din[idx] = 100 * (self._din[idx] / value)\n"
     ]
    },
    {
     "name": "stdout",
     "output_type": "stream",
     "text": [
      "                  Open        High         Low       Close   Adj Close  \\\n",
      "Date                                                                     \n",
      "2022-02-23  165.539993  166.149994  159.750000  160.070007  159.106186   \n",
      "2022-02-24  152.580002  162.850006  152.000000  162.740005  161.760132   \n",
      "2022-02-25  163.839996  165.119995  160.869995  164.850006  163.857407   \n",
      "2022-02-28  163.059998  165.419998  162.429993  165.119995  164.125763   \n",
      "2022-03-01  164.699997  166.600006  161.970001  163.199997  162.217331   \n",
      "\n",
      "               Volume Symbol    volume_adi  volume_obv  volume_cmf  ...  \\\n",
      "Date                                                                ...   \n",
      "2022-02-23   90009200   AAPL -8.100807e+07    90009200   -0.899998  ...   \n",
      "2022-02-24  141147500   AAPL  5.727744e+07   231156700    0.247786  ...   \n",
      "2022-02-25   91974200   AAPL  1.375660e+08   323130900    0.425728  ...   \n",
      "2022-02-28   95056600   AAPL  2.135475e+08   418187500    0.510650  ...   \n",
      "2022-03-01   83474400   AAPL  1.744243e+08   334713100    0.347693  ...   \n",
      "\n",
      "            momentum_ppo  momentum_ppo_signal  momentum_ppo_hist  \\\n",
      "Date                                                               \n",
      "2022-02-23      0.000000             0.000000           0.000000   \n",
      "2022-02-24      0.132897             0.026579           0.106318   \n",
      "2022-02-25      0.339808             0.089225           0.250583   \n",
      "2022-02-28      0.510613             0.173503           0.337110   \n",
      "2022-03-01      0.543437             0.247490           0.295948   \n",
      "\n",
      "            momentum_pvo  momentum_pvo_signal  momentum_pvo_hist  \\\n",
      "Date                                                               \n",
      "2022-02-23      0.000000             0.000000           0.000000   \n",
      "2022-02-24      4.349178             0.869836           3.479343   \n",
      "2022-02-25      3.530113             1.401891           2.128222   \n",
      "2022-02-28      3.102360             1.741985           1.360375   \n",
      "2022-03-01      1.763889             1.746366           0.017523   \n",
      "\n",
      "            momentum_kama  others_dr  others_dlr  others_cr  \n",
      "Date                                                         \n",
      "2022-02-23     160.070007   0.125705    0.000000   0.000000  \n",
      "2022-02-24     161.232928   1.668019    1.654260   1.668019  \n",
      "2022-02-25     162.811953   1.296547    1.288214   2.986193  \n",
      "2022-02-28     163.818577   0.163779    0.163645   3.154862  \n",
      "2022-03-01     163.562654  -1.162790   -1.169603   1.955388  \n",
      "\n",
      "[5 rows x 93 columns]\n"
     ]
    }
   ],
   "source": [
    "import yfinance as yf\n",
    "import ta\n",
    "import pandas as pd\n",
    "\n",
    "# Define the list of symbols\n",
    "symbols = [\"AAPL\", \"MSFT\", \"GOOG\", \"AMZN\", \"TSLA\", \"NVDA\", \"JPM\", \"V\", \"JNJ\", \"BAC\"]\n",
    "\n",
    "# Define the date range\n",
    "end_date = pd.Timestamp.today()\n",
    "start_date = end_date - pd.Timedelta(days=365)\n",
    "\n",
    "# Download the historical stock prices for each symbol\n",
    "dfs = []\n",
    "for symbol in symbols:\n",
    "    df = yf.download(symbol, start_date, end_date)\n",
    "    df['Symbol'] = symbol\n",
    "    dfs.append(df)\n",
    "\n",
    "# Combine the data for all symbols into a single dataframe\n",
    "df = pd.concat(dfs)\n",
    "\n",
    "# Compute the technical indicators\n",
    "df = ta.add_all_ta_features(df, open=\"Open\", high=\"High\", low=\"Low\", close=\"Close\", volume=\"Volume\", fillna=True)\n",
    "\n",
    "# Remove rows with missing values\n",
    "df.dropna(inplace=True)\n",
    "\n",
    "# Preview the data\n",
    "print(df.head())"
   ]
  },
  {
   "cell_type": "markdown",
   "metadata": {},
   "source": [
    "2. Now we will do a train - validation test split of 60-20-20 on our dataset. In this split we will seperate the data into training (60), validation (20) and testing (20)\n",
    "\n",
    "First we use the training set to train the machine learning model \n",
    "Secondly we will use the validation set to tune the hyperparameters\n",
    "Thirdly we use the testing set to evaluate the performance of our model"
   ]
  },
  {
   "cell_type": "code",
   "execution_count": 6,
   "metadata": {},
   "outputs": [
    {
     "name": "stdout",
     "output_type": "stream",
     "text": [
      "Train set size: 1506\n",
      "Validation set size: 502\n",
      "Test set size: 502\n"
     ]
    }
   ],
   "source": [
    "from sklearn.model_selection import train_test_split\n",
    "\n",
    "# Split the data into train, validation, and test sets\n",
    "train, test = train_test_split(df, test_size=0.2, shuffle=False)\n",
    "train, val = train_test_split(train, test_size=0.25, shuffle=False)\n",
    "\n",
    "# Print the sizes of the train, validation, and test sets\n",
    "print(\"Train set size:\", len(train))\n",
    "print(\"Validation set size:\", len(val))\n",
    "print(\"Test set size:\", len(test))"
   ]
  },
  {
   "cell_type": "markdown",
   "metadata": {},
   "source": [
    "Q3 Now we will train a regression model using \n",
    "\n",
    "a) Linear Regression"
   ]
  },
  {
   "cell_type": "code",
   "execution_count": 8,
   "metadata": {},
   "outputs": [
    {
     "name": "stdout",
     "output_type": "stream",
     "text": [
      "[*********************100%***********************]  1 of 1 completed\n",
      "\r[*********************100%***********************]  1 of 1 completed\n",
      "\r[*********************100%***********************]  1 of 1 completed\n",
      "\r[*********************100%***********************]  1 of 1 completed\n",
      "\r[*********************100%***********************]  1 of 1 completed\n",
      "\r[*********************100%***********************]  1 of 1 completed\n",
      "\r[*********************100%***********************]  1 of 1 completed\n",
      "\r[*********************100%***********************]  1 of 1 completed\n",
      "\r[*********************100%***********************]  1 of 1 completed\n",
      "\r[*********************100%***********************]  1 of 1 completed\n"
     ]
    },
    {
     "name": "stderr",
     "output_type": "stream",
     "text": [
      "/workspace/.pip-modules/lib/python3.8/site-packages/ta/trend.py:780: RuntimeWarning: invalid value encountered in scalar divide\n",
      "  dip[idx] = 100 * (self._dip[idx] / value)\n",
      "/workspace/.pip-modules/lib/python3.8/site-packages/ta/trend.py:785: RuntimeWarning: invalid value encountered in scalar divide\n",
      "  din[idx] = 100 * (self._din[idx] / value)\n"
     ]
    }
   ],
   "source": [
    "import yfinance as yf\n",
    "import ta\n",
    "import pandas as pd\n",
    "from sklearn.model_selection import train_test_split\n",
    "from sklearn.linear_model import LinearRegression\n",
    "\n",
    "# Define the list of symbols\n",
    "symbols = [\"AAPL\", \"MSFT\", \"GOOG\", \"AMZN\", \"TSLA\", \"NVDA\", \"JPM\", \"V\", \"JNJ\", \"BAC\"]\n",
    "\n",
    "# Define the date range\n",
    "end_date = pd.Timestamp.today()\n",
    "start_date = end_date - pd.Timedelta(days=365)\n",
    "\n",
    "# Download the historical stock prices for each symbol\n",
    "dfs = []\n",
    "for symbol in symbols:\n",
    "    df = yf.download(symbol, start_date, end_date)\n",
    "    df['Symbol'] = symbol\n",
    "    dfs.append(df)\n",
    "\n",
    "# Combine the data for all symbols into a single dataframe\n",
    "df = pd.concat(dfs)\n",
    "\n",
    "# Compute the technical indicators\n",
    "df = ta.add_all_ta_features(df, open=\"Open\", high=\"High\", low=\"Low\", close=\"Close\", volume=\"Volume\", fillna=True)\n",
    "\n",
    "# Remove rows with missing values\n",
    "df.dropna(inplace=True)\n",
    "\n",
    "# Split the data into train, validation, and test sets\n",
    "train, test = train_test_split(df, test_size=0.2, shuffle=False)\n",
    "train, val = train_test_split(train, test_size=0.25, shuffle=False)\n",
    "\n",
    "# Define the input features and output variable for training\n",
    "X_train = train.drop([\"Symbol\", \"Close\"], axis=1)\n",
    "y_train = train[\"Close\"]\n",
    "\n",
    "# Create an instance of the LinearRegression class\n",
    "reg = LinearRegression()\n",
    "\n",
    "# Fit the model to the training data\n",
    "reg.fit(X_train, y_train)\n",
    "\n",
    "# Use the trained model to make predictions on the validation and test sets\n",
    "X_val = val.drop([\"Symbol\", \"Close\"], axis=1)\n",
    "y_val = val[\"Close\"]\n",
    "y_pred_val = reg.predict(X_val)\n",
    "\n",
    "X_test = test.drop([\"Symbol\", \"Close\"], axis=1)\n",
    "y_test = test[\"Close\"]\n",
    "y_pred_test = reg.predict(X_test)"
   ]
  }
 ],
 "metadata": {
  "kernelspec": {
   "display_name": "Python 3",
   "language": "python",
   "name": "python3"
  },
  "language_info": {
   "codemirror_mode": {
    "name": "ipython",
    "version": 3
   },
   "file_extension": ".py",
   "mimetype": "text/x-python",
   "name": "python",
   "nbconvert_exporter": "python",
   "pygments_lexer": "ipython3",
   "version": "3.8.10"
  },
  "orig_nbformat": 4,
  "vscode": {
   "interpreter": {
    "hash": "c5f6236091c37a4f22ad7d9d9a7c98ed9be55b8aed0312ff4e7ac728dca299e1"
   }
  }
 },
 "nbformat": 4,
 "nbformat_minor": 2
}
